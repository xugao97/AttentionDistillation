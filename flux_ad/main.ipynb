{
 "cells": [
  {
   "cell_type": "markdown",
   "metadata": {},
   "source": [
    "## Style-specific T2I Generation with Flux.1-dev"
   ]
  },
  {
   "cell_type": "code",
   "execution_count": null,
   "metadata": {},
   "outputs": [],
   "source": [
    "import os\n",
    "os.environ[\"CUDA_VISIBLE_DEVICES\"] = \"0\"\n",
    "from accelerate.utils import set_seed\n",
    "from mypipeline import AttDistPipeline\n",
    "from utils import *\n",
    "\n",
    "\n",
    "model_name = \"/root/models/FLUX.1-dev\"\n",
    "lr = 0.01\n",
    "iters = 2\n",
    "seed = 42\n",
    "width = 512\n",
    "height = 512\n",
    "mixed_precision = \"bf16\"\n",
    "num_inference_steps = 50\n",
    "guidance_scale = 3.5\n",
    "enable_gradient_checkpoint = True\n",
    "start_layer, end_layer = 50, 57\n",
    "start_time = 9999\n",
    "prompt=\"A panda\"\n",
    "\n",
    "\n",
    "pipe = AttDistPipeline.from_pretrained(\n",
    "    model_name, torch_dtype=torch.float16)\n",
    "\n",
    "\n",
    "memory_efficient(pipe)\n",
    "set_seed(seed)\n",
    "loss_fn = torch.nn.L1Loss()\n",
    "\n",
    "style_image = [\"..//data/style/1.jpg\"]\n",
    "style_image = torch.cat([load_image(path, size=(512, 512)) for path in style_image])\n",
    "\n",
    "\n",
    "controller = Controller(self_layers=(start_layer, end_layer))\n",
    "\n",
    "result = pipe.sample(\n",
    "    lr=lr,\n",
    "    prompt=prompt,\n",
    "    loss_fn=loss_fn,\n",
    "    iters=iters,\n",
    "    width=width,\n",
    "    height=height,\n",
    "    start_time=start_time,\n",
    "    controller=controller,\n",
    "    style_image=style_image,\n",
    "    guidance_scale=guidance_scale,\n",
    "    mixed_precision=mixed_precision,\n",
    "    num_inference_steps=num_inference_steps,\n",
    "    enable_gradient_checkpoint=enable_gradient_checkpoint,\n",
    ")\n",
    "\n",
    "save_image(style_image, \"style.png\")\n",
    "save_image(result, \"output.png\")\n",
    "show_image(\"style.png\", title=\"style image\")\n",
    "show_image(\"output.png\", title=prompt)"
   ]
  }
 ],
 "metadata": {
  "kernelspec": {
   "display_name": "ad",
   "language": "python",
   "name": "python3"
  },
  "language_info": {
   "codemirror_mode": {
    "name": "ipython",
    "version": 3
   },
   "file_extension": ".py",
   "mimetype": "text/x-python",
   "name": "python",
   "nbconvert_exporter": "python",
   "pygments_lexer": "ipython3",
   "version": "3.10.16"
  }
 },
 "nbformat": 4,
 "nbformat_minor": 2
}
